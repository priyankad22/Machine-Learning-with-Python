{
 "cells": [
  {
   "cell_type": "code",
   "execution_count": 3,
   "metadata": {},
   "outputs": [],
   "source": [
    "import numpy as np"
   ]
  },
  {
   "cell_type": "code",
   "execution_count": 4,
   "metadata": {},
   "outputs": [],
   "source": [
    "Countries = np.array(['Great Britain','China','Russia','United States','Korea','Japan','Germany'])\n",
    "Counytry_Code = np.array(['GBR','CHN','RUS','US','KOR','JPN','GER'])\n",
    "Gold = np.array([29,38,24,46,13,7,11])\n",
    "Silver = np.array([17,28,25,28,8,14,11])\n",
    "Bronze = np.array([19,22,32,29,7,17,14])"
   ]
  },
  {
   "cell_type": "code",
   "execution_count": 24,
   "metadata": {},
   "outputs": [],
   "source": [
    "Countries_with_max_gold_medal = Countries[Gold.argmax()]"
   ]
  },
  {
   "cell_type": "code",
   "execution_count": 25,
   "metadata": {},
   "outputs": [
    {
     "data": {
      "text/plain": [
       "'United States'"
      ]
     },
     "execution_count": 25,
     "metadata": {},
     "output_type": "execute_result"
    }
   ],
   "source": [
    "#Print the name of the country that won max Gold medals\n",
    "\n",
    "Countries_with_max_gold_medal"
   ]
  },
  {
   "cell_type": "code",
   "execution_count": 7,
   "metadata": {},
   "outputs": [
    {
     "name": "stdout",
     "output_type": "stream",
     "text": [
      "['Great Britain' 'China' 'Russia' 'United States']\n"
     ]
    }
   ],
   "source": [
    "#Print the name of the country that won more than 20 Gold medals\n",
    "\n",
    "print(Countries[Gold>20])"
   ]
  },
  {
   "cell_type": "code",
   "execution_count": 15,
   "metadata": {},
   "outputs": [
    {
     "name": "stdout",
     "output_type": "stream",
     "text": [
      "Country Great Britain got 29 GOLD, 17 SILVER and 19 BRONZE and TOTAL 65 medal\n",
      "Country China got 38 GOLD, 28 SILVER and 22 BRONZE and TOTAL 88 medal\n",
      "Country Russia got 24 GOLD, 25 SILVER and 32 BRONZE and TOTAL 81 medal\n",
      "Country United States got 46 GOLD, 28 SILVER and 29 BRONZE and TOTAL 103 medal\n",
      "Country Korea got 13 GOLD, 8 SILVER and 7 BRONZE and TOTAL 28 medal\n",
      "Country Japan got 7 GOLD, 14 SILVER and 17 BRONZE and TOTAL 38 medal\n",
      "Country Germany got 11 GOLD, 11 SILVER and 14 BRONZE and TOTAL 36 medal\n"
     ]
    }
   ],
   "source": [
    "#Print the medal tally\n",
    "#Print each country name with the corresponding number of Gold medals\n",
    "#Print each country's name with the total number of medal won\n",
    "\n",
    "for i in range(len(Countries)):\n",
    "    gold_country = Gold[i]\n",
    "    silver_country = Silver[i]\n",
    "    bronze_country = Bronze[i]\n",
    "    total = gold_country+silver_country+bronze_country\n",
    "    country = Countries[i]\n",
    "    print('Country {} got {} GOLD, {} SILVER and {} BRONZE and TOTAL {} medal'.\n",
    "          format(country,gold_country,silver_country,bronze_country,total))"
   ]
  },
  {
   "cell_type": "code",
   "execution_count": null,
   "metadata": {},
   "outputs": [],
   "source": []
  }
 ],
 "metadata": {
  "kernelspec": {
   "display_name": "Python 3",
   "language": "python",
   "name": "python3"
  },
  "language_info": {
   "codemirror_mode": {
    "name": "ipython",
    "version": 3
   },
   "file_extension": ".py",
   "mimetype": "text/x-python",
   "name": "python",
   "nbconvert_exporter": "python",
   "pygments_lexer": "ipython3",
   "version": "3.6.5"
  }
 },
 "nbformat": 4,
 "nbformat_minor": 2
}
