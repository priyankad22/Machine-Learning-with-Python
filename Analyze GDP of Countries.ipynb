{
 "cells": [
  {
   "cell_type": "code",
   "execution_count": 1,
   "metadata": {},
   "outputs": [],
   "source": [
    "import numpy as np"
   ]
  },
  {
   "cell_type": "code",
   "execution_count": 43,
   "metadata": {},
   "outputs": [],
   "source": [
    "Country = np.array(['Algeria','Angola','Argentina','Australia','Austria','Bahamas','Bangladesh','Belarus','Belgium','Bhutan','Brazil','Bulgaria','Cambodia','Cameroon','Chile','China',\n",
    "'Colombia','Cyprus','Denmark','El Salvador','Estonia','Ethiopia','Fiji','Finland','France','Georgia','Ghana','Grenada','Guinea','Haiti','Honduras','Hungary','India',\n",
    "'Indonesia','Ireland','Italy','Japan','Kenya', 'South Korea','Liberia','Malaysia','Mexico', 'Morocco','Nepal','New Zealand','Norway','Pakistan', 'Peru','Qatar','Russia',\n",
    "'Singapore','South Africa','Spain','Sweden','Switzerland','Thailand', 'United Arab Emirates','United Kingdom','United States','Uruguay','Venezuela','Vietnam','Zimbabwe'])"
   ]
  },
  {
   "cell_type": "code",
   "execution_count": 44,
   "metadata": {},
   "outputs": [],
   "source": [
    "GDP = np.array([2255.225482,629.9553062,11601.63022,25306.82494,27266.40335,19466.99052,588.3691778,2890.345675,24733.62696,1445.760002,4803.398244,2618.876037,590.4521124,665.7982328,\n",
    "7122.938458,2639.54156,3362.4656,15378.16704,30860.12808,2579.115607,6525.541272,229.6769525,2242.689259,27570.4852,23016.84778,1334.646773,402.6953275,6047.200797,394.1156638,\n",
    "385.5793827,1414.072488,5745.981529,837.7464011,1206.991065,27715.52837,18937.24998,39578.07441,478.2194906,16684.21278,279.2204061,5345.213415,6288.25324,1908.304416,\n",
    "274.8728621,14646.42094,40034.85063,672.1547506,3359.517402,36152.66676,3054.727742,33529.83052,3825.093781,15428.32098,33630.24604,39170.41371,2699.123242,21058.43643,\n",
    "28272.40661,37691.02733,9581.05659,5671.912202,757.4009286,347.7456605])"
   ]
  },
  {
   "cell_type": "code",
   "execution_count": 19,
   "metadata": {},
   "outputs": [],
   "source": [
    "max_GDP = GDP.argmax()"
   ]
  },
  {
   "cell_type": "code",
   "execution_count": 20,
   "metadata": {},
   "outputs": [],
   "source": [
    "country_max_GDP = Country[max_GDP]"
   ]
  },
  {
   "cell_type": "code",
   "execution_count": 21,
   "metadata": {},
   "outputs": [
    {
     "data": {
      "text/plain": [
       "'Norway'"
      ]
     },
     "execution_count": 21,
     "metadata": {},
     "output_type": "execute_result"
    }
   ],
   "source": [
    "country_max_GDP"
   ]
  },
  {
   "cell_type": "code",
   "execution_count": 22,
   "metadata": {},
   "outputs": [],
   "source": [
    "min_GDP = GDP.argmin()"
   ]
  },
  {
   "cell_type": "code",
   "execution_count": 23,
   "metadata": {},
   "outputs": [],
   "source": [
    "country_min_GDP = Country[min_GDP]"
   ]
  },
  {
   "cell_type": "code",
   "execution_count": 24,
   "metadata": {},
   "outputs": [
    {
     "data": {
      "text/plain": [
       "'Ethiopia'"
      ]
     },
     "execution_count": 24,
     "metadata": {},
     "output_type": "execute_result"
    }
   ],
   "source": [
    "country_min_GDP"
   ]
  },
  {
   "cell_type": "code",
   "execution_count": 25,
   "metadata": {},
   "outputs": [
    {
     "name": "stdout",
     "output_type": "stream",
     "text": [
      "0 Algeria\n",
      "1 Angola\n",
      "2 Argentina\n",
      "3 Australia\n",
      "4 Austria\n",
      "5 Bahamas\n",
      "6 Bangladesh\n",
      "7 Belarus\n",
      "8 Belgium\n",
      "9 Bhutan\n",
      "10 Brazil\n",
      "11 Bulgaria\n",
      "12 Cambodia\n",
      "13 Cameroon\n",
      "14 Chile\n",
      "15 China\n",
      "16 Colombia\n",
      "17 Cyprus\n",
      "18 Denmark\n",
      "19 El Salvador\n",
      "20 Estonia\n",
      "21 Ethiopia\n",
      "22 Fiji\n",
      "23 Finland\n",
      "24 France\n",
      "25 Georgia\n",
      "26 Ghana\n",
      "27 Grenada\n",
      "28 Guinea\n",
      "29 Haiti\n",
      "30 Honduras\n",
      "31 Hungary\n",
      "32 India\n",
      "33 Indonesia\n",
      "34 Ireland\n",
      "35 Italy\n",
      "36 Japan\n",
      "37 Kenya\n",
      "38 South Korea\n",
      "39 Liberia\n",
      "40 Malaysia\n",
      "41 Mexico\n",
      "42 Morocco\n",
      "43 Nepal\n",
      "44 New Zealand\n",
      "45 Norway\n",
      "46 Pakistan\n",
      "47 Peru\n",
      "48 Qatar\n",
      "49 Russia\n",
      "50 Singapore\n",
      "51 South Africa\n",
      "52 Spain\n",
      "53 Sweden\n",
      "54 Switzerland\n",
      "55 Thailand\n",
      "56 United Arab Emirates\n",
      "57 United Kingdom\n",
      "58 United States\n",
      "59 Uruguay\n",
      "60 Venezuela\n",
      "61 Vietnam\n",
      "62 Zimbabwe\n"
     ]
    }
   ],
   "source": [
    "for position,name in enumerate(Country):\n",
    "    print(position,name)"
   ]
  },
  {
   "cell_type": "code",
   "execution_count": 50,
   "metadata": {},
   "outputs": [],
   "source": [
    "Country_with_GDP = list(zip(Country,GDP))"
   ]
  },
  {
   "cell_type": "code",
   "execution_count": 51,
   "metadata": {},
   "outputs": [
    {
     "data": {
      "text/plain": [
       "[('Algeria', 2255.225482),\n",
       " ('Angola', 629.9553062),\n",
       " ('Argentina', 11601.63022),\n",
       " ('Australia', 25306.82494),\n",
       " ('Austria', 27266.40335),\n",
       " ('Bahamas', 19466.99052),\n",
       " ('Bangladesh', 588.3691778),\n",
       " ('Belarus', 2890.345675),\n",
       " ('Belgium', 24733.62696),\n",
       " ('Bhutan', 1445.760002),\n",
       " ('Brazil', 4803.398244),\n",
       " ('Bulgaria', 2618.876037),\n",
       " ('Cambodia', 590.4521124),\n",
       " ('Cameroon', 665.7982328),\n",
       " ('Chile', 7122.938458),\n",
       " ('China', 2639.54156),\n",
       " ('Colombia', 3362.4656),\n",
       " ('Cyprus', 15378.16704),\n",
       " ('Denmark', 30860.12808),\n",
       " ('El Salvador', 2579.115607),\n",
       " ('Estonia', 6525.541272),\n",
       " ('Ethiopia', 229.6769525),\n",
       " ('Fiji', 2242.689259),\n",
       " ('Finland', 27570.4852),\n",
       " ('France', 23016.84778),\n",
       " ('Georgia', 1334.646773),\n",
       " ('Ghana', 402.6953275),\n",
       " ('Grenada', 6047.200797),\n",
       " ('Guinea', 394.1156638),\n",
       " ('Haiti', 385.5793827),\n",
       " ('Honduras', 1414.072488),\n",
       " ('Hungary', 5745.981529),\n",
       " ('India', 837.7464011),\n",
       " ('Indonesia', 1206.991065),\n",
       " ('Ireland', 27715.52837),\n",
       " ('Italy', 18937.24998),\n",
       " ('Japan', 39578.07441),\n",
       " ('Kenya', 478.2194906),\n",
       " ('South Korea', 16684.21278),\n",
       " ('Liberia', 279.2204061),\n",
       " ('Malaysia', 5345.213415),\n",
       " ('Mexico', 6288.25324),\n",
       " ('Morocco', 1908.304416),\n",
       " ('Nepal', 274.8728621),\n",
       " ('New Zealand', 14646.42094),\n",
       " ('Norway', 40034.85063),\n",
       " ('Pakistan', 672.1547506),\n",
       " ('Peru', 3359.517402),\n",
       " ('Qatar', 36152.66676),\n",
       " ('Russia', 3054.727742),\n",
       " ('Singapore', 33529.83052),\n",
       " ('South Africa', 3825.093781),\n",
       " ('Spain', 15428.32098),\n",
       " ('Sweden', 33630.24604),\n",
       " ('Switzerland', 39170.41371),\n",
       " ('Thailand', 2699.123242),\n",
       " ('United Arab Emirates', 21058.43643),\n",
       " ('United Kingdom', 28272.40661),\n",
       " ('United States', 37691.02733),\n",
       " ('Uruguay', 9581.05659),\n",
       " ('Venezuela', 5671.912202),\n",
       " ('Vietnam', 757.4009286),\n",
       " ('Zimbabwe', 347.7456605)]"
      ]
     },
     "execution_count": 51,
     "metadata": {},
     "output_type": "execute_result"
    }
   ],
   "source": [
    "Country_with_GDP"
   ]
  },
  {
   "cell_type": "code",
   "execution_count": 52,
   "metadata": {},
   "outputs": [],
   "source": [
    "Highest_GDP_Value = max(GDP)"
   ]
  },
  {
   "cell_type": "code",
   "execution_count": 53,
   "metadata": {},
   "outputs": [
    {
     "data": {
      "text/plain": [
       "40034.85063"
      ]
     },
     "execution_count": 53,
     "metadata": {},
     "output_type": "execute_result"
    }
   ],
   "source": [
    "Highest_GDP_Value"
   ]
  },
  {
   "cell_type": "code",
   "execution_count": 54,
   "metadata": {},
   "outputs": [
    {
     "data": {
      "text/plain": [
       "229.6769525"
      ]
     },
     "execution_count": 54,
     "metadata": {},
     "output_type": "execute_result"
    }
   ],
   "source": [
    "Lowest_GDP_Value = min(GDP)\n",
    "Lowest_GDP_Value"
   ]
  },
  {
   "cell_type": "code",
   "execution_count": 57,
   "metadata": {},
   "outputs": [],
   "source": [
    "Mean_GDP_Value = np.mean(GDP)"
   ]
  },
  {
   "cell_type": "code",
   "execution_count": 58,
   "metadata": {},
   "outputs": [
    {
     "data": {
      "text/plain": [
       "11289.409271639683"
      ]
     },
     "execution_count": 58,
     "metadata": {},
     "output_type": "execute_result"
    }
   ],
   "source": [
    "Mean_GDP_Value"
   ]
  },
  {
   "cell_type": "code",
   "execution_count": 59,
   "metadata": {},
   "outputs": [],
   "source": [
    "Standardised_GDP_Value = np.std(GDP)"
   ]
  },
  {
   "cell_type": "code",
   "execution_count": 60,
   "metadata": {},
   "outputs": [
    {
     "data": {
      "text/plain": [
       "12743.828910617945"
      ]
     },
     "execution_count": 60,
     "metadata": {},
     "output_type": "execute_result"
    }
   ],
   "source": [
    "Standardised_GDP_Value"
   ]
  },
  {
   "cell_type": "code",
   "execution_count": 61,
   "metadata": {},
   "outputs": [],
   "source": [
    "Sum_of_GDP = sum(GDP)"
   ]
  },
  {
   "cell_type": "code",
   "execution_count": 62,
   "metadata": {},
   "outputs": [
    {
     "data": {
      "text/plain": [
       "711232.7841133001"
      ]
     },
     "execution_count": 62,
     "metadata": {},
     "output_type": "execute_result"
    }
   ],
   "source": [
    "Sum_of_GDP"
   ]
  },
  {
   "cell_type": "code",
   "execution_count": null,
   "metadata": {},
   "outputs": [],
   "source": []
  }
 ],
 "metadata": {
  "kernelspec": {
   "display_name": "Python 3",
   "language": "python",
   "name": "python3"
  },
  "language_info": {
   "codemirror_mode": {
    "name": "ipython",
    "version": 3
   },
   "file_extension": ".py",
   "mimetype": "text/x-python",
   "name": "python",
   "nbconvert_exporter": "python",
   "pygments_lexer": "ipython3",
   "version": "3.6.5"
  }
 },
 "nbformat": 4,
 "nbformat_minor": 2
}
